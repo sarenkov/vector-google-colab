{
  "nbformat": 4,
  "nbformat_minor": 0,
  "metadata": {
    "colab": {
      "provenance": [],
      "authorship_tag": "ABX9TyMN5HVVuaGstEluS9gMdDpJ",
      "include_colab_link": true
    },
    "kernelspec": {
      "name": "python3",
      "display_name": "Python 3"
    },
    "language_info": {
      "name": "python"
    }
  },
  "cells": [
    {
      "cell_type": "markdown",
      "metadata": {
        "id": "view-in-github",
        "colab_type": "text"
      },
      "source": [
        "<a href=\"https://colab.research.google.com/github/sarenkov/vector-google-colab/blob/main/Vector.ipynb\" target=\"_parent\"><img src=\"https://colab.research.google.com/assets/colab-badge.svg\" alt=\"Open In Colab\"/></a>"
      ]
    },
    {
      "cell_type": "code",
      "execution_count": 14,
      "metadata": {
        "colab": {
          "base_uri": "https://localhost:8080/"
        },
        "id": "WBZjNWgDDSxl",
        "outputId": "adfd3b5a-6b3c-4da7-d9d1-e0eb9a0c6c21"
      },
      "outputs": [
        {
          "output_type": "stream",
          "name": "stdout",
          "text": [
            "sum is:112499992500000\n",
            "1.85\n"
          ]
        }
      ],
      "source": [
        "import time \n",
        "start = time.time()\n",
        "\n",
        " \n",
        "# iterative sum\n",
        "total = 0\n",
        "# iterating through 1.5 Million numbers\n",
        "for item in range(0, 15000000):\n",
        "    total = total + item\n",
        "\n",
        "\n",
        "print('sum is:' + str(total))\n",
        "end = time.time()\n",
        "\n",
        "print(round(end - start, 2))\n"
      ]
    },
    {
      "cell_type": "code",
      "source": [
        "import numpy as np\n",
        "\n",
        "start = time.time()\n",
        "\n",
        "# vectorized sum - using numpy for vectorization\n",
        "# np.arange create the sequence of numbers from 0 to 1499999\n",
        "print('sum is:' + str(np.sum(np.arange(15000000))))\n",
        "\n",
        "end = time.time()\n",
        "\n",
        "print(round(end - start, 2))"
      ],
      "metadata": {
        "colab": {
          "base_uri": "https://localhost:8080/"
        },
        "id": "R72u83XsGxWL",
        "outputId": "3028d2bd-d44e-428d-bfcd-8a97da85a411"
      },
      "execution_count": 17,
      "outputs": [
        {
          "output_type": "stream",
          "name": "stdout",
          "text": [
            "sum is:112499992500000\n",
            "0.04\n"
          ]
        }
      ]
    }
  ]
}
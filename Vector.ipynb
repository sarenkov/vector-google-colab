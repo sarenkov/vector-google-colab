{
  "nbformat": 4,
  "nbformat_minor": 0,
  "metadata": {
    "colab": {
      "provenance": [],
      "authorship_tag": "ABX9TyMN5HVVuaGstEluS9gMdDpJ",
      "include_colab_link": true
    },
    "kernelspec": {
      "name": "python3",
      "display_name": "Python 3"
    },
    "language_info": {
      "name": "python"
    }
  },
  "cells": [
    {
      "cell_type": "markdown",
      "metadata": {
        "id": "view-in-github",
        "colab_type": "text"
      },
      "source": [
        "<a href=\"https://colab.research.google.com/github/sarenkov/vector-google-colab/blob/main/Vector.ipynb\" target=\"_parent\"><img src=\"https://colab.research.google.com/assets/colab-badge.svg\" alt=\"Open In Colab\"/></a>"
      ]
    },
    {
      "cell_type": "code",
      "execution_count": null,
      "metadata": {
        "id": "WBZjNWgDDSxl"
      },
      "outputs": [],
      "source": [
        "import time \n",
        "start = time.time()\n",
        "\n",
        " \n",
        "# iterative sum\n",
        "total = 0\n",
        "# iterating through 1.5 Million numbers\n",
        "for item in range(0, 15000000):\n",
        "    total = total + item\n",
        "\n",
        "\n",
        "print('sum is:' + str(total))\n",
        "end = time.time()\n",
        "\n",
        "print(round(end - start, 2))\n"
      ]
    },
    {
      "cell_type": "code",
      "source": [
        "import numpy as np\n",
        "\n",
        "start = time.time()\n",
        "\n",
        "# vectorized sum - using numpy for vectorization\n",
        "# np.arange create the sequence of numbers from 0 to 1499999\n",
        "print('sum is:' + str(np.sum(np.arange(15000000))))\n",
        "\n",
        "end = time.time()\n",
        "\n",
        "print(round(end - start, 2))"
      ],
      "metadata": {
        "id": "R72u83XsGxWL"
      },
      "execution_count": null,
      "outputs": []
    }
  ]
}